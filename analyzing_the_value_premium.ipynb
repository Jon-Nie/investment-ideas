{
 "cells": [
  {
   "cell_type": "markdown",
   "id": "93f40c6a",
   "metadata": {},
   "source": [
    "# Analyzing the Value Premium\n",
    "\n",
    "## Introduction\n",
    "In 1992, Eugene Fama and Kenneth French introduced a Three-Factor Model that extends William Sharpe's CAPM with a Size Factor and a Value Factor:\n",
    "<br><br>\n",
    "$$\n",
    "E(r) = \\alpha + \\beta_{1} *  (MKT-R_f) + \\beta_{2} * SMB + \\beta_{3} * HML\n",
    "$$\n",
    "<br>\n",
    "Given the parsimonous structure, the theoretical existence of state variables that investors want to hedge against and the poor performance of the CAPM, it has become, together with Fama/French's (FF) extended 5-Factor Model, the standard model to price the cross-section of equity returns.\n",
    "<br>\n",
    "However, since the publication of the paper, both factors failed to deliver any premium out-of-sample and the value premium (HML) in particular currently experiences a 20-year long drawdown, erasing half of its entire 100-year cumulative outperformance. Sceptics claim that both premia are unrelated to risk and that the model is a result of data snooping. Once the existence of a new factor becomes common knowledge and investors adapt and try to exploit it, it should, via arbitrage, ultimately vanish. \n",
    "<br>\n",
    "While asset pricing theory points to factors aside from the sensitivity to the market portfolio and although the four additional Fama/French factors are theoretically sound as they directly relate to the pricing equation, it is unclear whether they can indeed proxy the underlying risk factors. This notebook puts aside the theory and provides a quantitative analysis of the drivers of the value premium and shows that it cannot be concluded that the value premium vanished.\n",
    "\n",
    "**Data sources:**\n",
    "* Kenneth French's Academic Portfolios (https://mba.tuck.dartmouth.edu/pages/faculty/ken.french/data_library.html)\n",
    "  * In particular *Fama/French 5 Factors* and *6 Portfolios Formed on Size and Book-to-Market (2 x 3)*\n",
    "* Robert Shiller's History of Bond Rates (http://www.econ.yale.edu/~shiller/data.htm)"
   ]
  },
  {
   "cell_type": "markdown",
   "id": "4bf15624",
   "metadata": {},
   "source": [
    "#### Importing the Data"
   ]
  },
  {
   "cell_type": "code",
   "execution_count": 364,
   "id": "96163055",
   "metadata": {},
   "outputs": [],
   "source": [
    "import numpy as np\n",
    "import pandas as pd\n",
    "import matplotlib.pyplot as plt\n",
    "from statsmodels.api import OLS, add_constant\n",
    "from statsmodels.tsa.arima.model import ARIMA\n",
    "from scipy.stats import norm\n",
    "from finance_data import FrenchReader, ShillerReader"
   ]
  },
  {
   "cell_type": "code",
   "execution_count": 281,
   "id": "856e773d",
   "metadata": {},
   "outputs": [],
   "source": [
    "plt.style.use(\"seaborn-bright\")\n",
    "plt.rcParams[\"figure.figsize\"] = (12,6)"
   ]
  },
  {
   "cell_type": "code",
   "execution_count": 282,
   "id": "37ace6af",
   "metadata": {},
   "outputs": [
    {
     "data": {
      "text/html": [
       "<div>\n",
       "<style scoped>\n",
       "    .dataframe tbody tr th:only-of-type {\n",
       "        vertical-align: middle;\n",
       "    }\n",
       "\n",
       "    .dataframe tbody tr th {\n",
       "        vertical-align: top;\n",
       "    }\n",
       "\n",
       "    .dataframe thead th {\n",
       "        text-align: right;\n",
       "    }\n",
       "</style>\n",
       "<table border=\"1\" class=\"dataframe\">\n",
       "  <thead>\n",
       "    <tr style=\"text-align: right;\">\n",
       "      <th></th>\n",
       "      <th>Mkt-RF</th>\n",
       "      <th>SMB</th>\n",
       "      <th>HML</th>\n",
       "      <th>RMW</th>\n",
       "      <th>CMA</th>\n",
       "      <th>Mom</th>\n",
       "      <th>RF</th>\n",
       "      <th>10-Year Interest Rate</th>\n",
       "    </tr>\n",
       "  </thead>\n",
       "  <tbody>\n",
       "    <tr>\n",
       "      <th>1927-01-01</th>\n",
       "      <td>-0.0006</td>\n",
       "      <td>-0.0051</td>\n",
       "      <td>0.0473</td>\n",
       "      <td>NaN</td>\n",
       "      <td>NaN</td>\n",
       "      <td>0.0036</td>\n",
       "      <td>0.0025</td>\n",
       "      <td>0.033400</td>\n",
       "    </tr>\n",
       "    <tr>\n",
       "      <th>1927-02-01</th>\n",
       "      <td>0.0418</td>\n",
       "      <td>-0.0025</td>\n",
       "      <td>0.0327</td>\n",
       "      <td>NaN</td>\n",
       "      <td>NaN</td>\n",
       "      <td>-0.0214</td>\n",
       "      <td>0.0026</td>\n",
       "      <td>0.033392</td>\n",
       "    </tr>\n",
       "    <tr>\n",
       "      <th>1927-03-01</th>\n",
       "      <td>0.0013</td>\n",
       "      <td>-0.0189</td>\n",
       "      <td>-0.0256</td>\n",
       "      <td>NaN</td>\n",
       "      <td>NaN</td>\n",
       "      <td>0.0361</td>\n",
       "      <td>0.0030</td>\n",
       "      <td>0.033383</td>\n",
       "    </tr>\n",
       "    <tr>\n",
       "      <th>1927-04-01</th>\n",
       "      <td>0.0046</td>\n",
       "      <td>0.0049</td>\n",
       "      <td>0.0071</td>\n",
       "      <td>NaN</td>\n",
       "      <td>NaN</td>\n",
       "      <td>0.0430</td>\n",
       "      <td>0.0025</td>\n",
       "      <td>0.033375</td>\n",
       "    </tr>\n",
       "    <tr>\n",
       "      <th>1927-05-01</th>\n",
       "      <td>0.0544</td>\n",
       "      <td>0.0146</td>\n",
       "      <td>0.0498</td>\n",
       "      <td>NaN</td>\n",
       "      <td>NaN</td>\n",
       "      <td>0.0300</td>\n",
       "      <td>0.0030</td>\n",
       "      <td>0.033367</td>\n",
       "    </tr>\n",
       "    <tr>\n",
       "      <th>...</th>\n",
       "      <td>...</td>\n",
       "      <td>...</td>\n",
       "      <td>...</td>\n",
       "      <td>...</td>\n",
       "      <td>...</td>\n",
       "      <td>...</td>\n",
       "      <td>...</td>\n",
       "      <td>...</td>\n",
       "    </tr>\n",
       "    <tr>\n",
       "      <th>2021-08-01</th>\n",
       "      <td>0.0290</td>\n",
       "      <td>-0.0048</td>\n",
       "      <td>-0.0013</td>\n",
       "      <td>-0.0026</td>\n",
       "      <td>-0.0167</td>\n",
       "      <td>0.0252</td>\n",
       "      <td>0.0000</td>\n",
       "      <td>0.012800</td>\n",
       "    </tr>\n",
       "    <tr>\n",
       "      <th>2021-09-01</th>\n",
       "      <td>-0.0437</td>\n",
       "      <td>0.0080</td>\n",
       "      <td>0.0509</td>\n",
       "      <td>-0.0194</td>\n",
       "      <td>0.0208</td>\n",
       "      <td>0.0157</td>\n",
       "      <td>0.0000</td>\n",
       "      <td>0.013700</td>\n",
       "    </tr>\n",
       "    <tr>\n",
       "      <th>2021-10-01</th>\n",
       "      <td>0.0665</td>\n",
       "      <td>-0.0228</td>\n",
       "      <td>-0.0044</td>\n",
       "      <td>0.0174</td>\n",
       "      <td>-0.0148</td>\n",
       "      <td>0.0321</td>\n",
       "      <td>0.0000</td>\n",
       "      <td>0.015800</td>\n",
       "    </tr>\n",
       "    <tr>\n",
       "      <th>2021-11-01</th>\n",
       "      <td>-0.0155</td>\n",
       "      <td>-0.0135</td>\n",
       "      <td>-0.0053</td>\n",
       "      <td>0.0738</td>\n",
       "      <td>0.0160</td>\n",
       "      <td>0.0082</td>\n",
       "      <td>0.0000</td>\n",
       "      <td>0.015600</td>\n",
       "    </tr>\n",
       "    <tr>\n",
       "      <th>2021-12-01</th>\n",
       "      <td>0.0310</td>\n",
       "      <td>-0.0158</td>\n",
       "      <td>0.0322</td>\n",
       "      <td>0.0475</td>\n",
       "      <td>0.0438</td>\n",
       "      <td>-0.0268</td>\n",
       "      <td>0.0001</td>\n",
       "      <td>0.014700</td>\n",
       "    </tr>\n",
       "  </tbody>\n",
       "</table>\n",
       "<p>1140 rows × 8 columns</p>\n",
       "</div>"
      ],
      "text/plain": [
       "            Mkt-RF     SMB     HML     RMW     CMA     Mom      RF  \\\n",
       "1927-01-01 -0.0006 -0.0051  0.0473     NaN     NaN  0.0036  0.0025   \n",
       "1927-02-01  0.0418 -0.0025  0.0327     NaN     NaN -0.0214  0.0026   \n",
       "1927-03-01  0.0013 -0.0189 -0.0256     NaN     NaN  0.0361  0.0030   \n",
       "1927-04-01  0.0046  0.0049  0.0071     NaN     NaN  0.0430  0.0025   \n",
       "1927-05-01  0.0544  0.0146  0.0498     NaN     NaN  0.0300  0.0030   \n",
       "...            ...     ...     ...     ...     ...     ...     ...   \n",
       "2021-08-01  0.0290 -0.0048 -0.0013 -0.0026 -0.0167  0.0252  0.0000   \n",
       "2021-09-01 -0.0437  0.0080  0.0509 -0.0194  0.0208  0.0157  0.0000   \n",
       "2021-10-01  0.0665 -0.0228 -0.0044  0.0174 -0.0148  0.0321  0.0000   \n",
       "2021-11-01 -0.0155 -0.0135 -0.0053  0.0738  0.0160  0.0082  0.0000   \n",
       "2021-12-01  0.0310 -0.0158  0.0322  0.0475  0.0438 -0.0268  0.0001   \n",
       "\n",
       "            10-Year Interest Rate  \n",
       "1927-01-01               0.033400  \n",
       "1927-02-01               0.033392  \n",
       "1927-03-01               0.033383  \n",
       "1927-04-01               0.033375  \n",
       "1927-05-01               0.033367  \n",
       "...                           ...  \n",
       "2021-08-01               0.012800  \n",
       "2021-09-01               0.013700  \n",
       "2021-10-01               0.015800  \n",
       "2021-11-01               0.015600  \n",
       "2021-12-01               0.014700  \n",
       "\n",
       "[1140 rows x 8 columns]"
      ]
     },
     "execution_count": 282,
     "metadata": {},
     "output_type": "execute_result"
    }
   ],
   "source": [
    "bond_rate = ShillerReader.cape()[\"10-Year Interest Rate\"] / 100\n",
    "ff3 = FrenchReader(\"F-F_Research_Data_Factors\").read()[\"Main\"] / 100\n",
    "ff5 = FrenchReader(\"F-F_Research_Data_5_Factors_2x3\").read()[\"Main\"] / 100\n",
    "mom = FrenchReader(\"F-F_Momentum_Factor\").read()[\"Main\"] / 100\n",
    "df = pd.concat([ff3, mom, bond_rate], axis=1).dropna()\n",
    "df[\"RMW\"] = ff5[\"RMW\"]\n",
    "df[\"CMA\"] = ff5[\"CMA\"]\n",
    "df = df[[\"Mkt-RF\", \"SMB\", \"HML\", \"RMW\", \"CMA\", \"Mom\", \"RF\", \"10-Year Interest Rate\"]]\n",
    "df"
   ]
  },
  {
   "cell_type": "code",
   "execution_count": 283,
   "id": "6c194d5d",
   "metadata": {},
   "outputs": [
    {
     "name": "stdout",
     "output_type": "stream",
     "text": [
      "Average Value Weighted Returns Monthly\n",
      "Average Equal Weighted Returns Monthly\n",
      "Average Value Weighted Returns Annual\n",
      "Average Equal Weighted Returns Annual\n",
      "Number of Firms in Portfolios\n",
      "Average Market Cap\n",
      "Value Weight Average of BE/ME\n",
      "Value Weight Average of BE_FYt-1/ME_June\n",
      "Value Weight Average of OP\n",
      "Value Weight Average of investment\n"
     ]
    }
   ],
   "source": [
    "portfolio_data = FrenchReader(\"6_Portfolios_2x3\").read()\n",
    "for key in portfolio_data.keys():\n",
    "    print(key)"
   ]
  },
  {
   "cell_type": "markdown",
   "id": "86315f98",
   "metadata": {},
   "source": [
    "## Analysis"
   ]
  },
  {
   "cell_type": "markdown",
   "id": "c47ef5af",
   "metadata": {},
   "source": [
    "Since 2004, the value premium had its largest drawdown in history and shed about half of its cumulative outperformance since 1927."
   ]
  },
  {
   "cell_type": "code",
   "execution_count": 310,
   "id": "3c49b0a1",
   "metadata": {
    "scrolled": false
   },
   "outputs": [
    {
     "data": {
      "image/png": "[encoded data removed]",
      "text/plain": [
       "<Figure size 1008x504 with 2 Axes>"
      ]
     },
     "metadata": {
      "needs_background": "light"
     },
     "output_type": "display_data"
    }
   ],
   "source": [
    "df[\"HML cumulative\"] = (1+df[\"HML\"]).cumprod()\n",
    "df[\"HML drawdown\"] = df[\"HML cumulative\"] / df[\"HML cumulative\"].cummax() - 1\n",
    "\n",
    "figure, axes = plt.subplots(2, gridspec_kw={'height_ratios': [5, 3]}, figsize=(14,7))\n",
    "plt.subplots_adjust(hspace=0.4)\n",
    "figure.suptitle(\"A Century of the Value Premium\", fontsize=18, fontweight=\"bold\")\n",
    "\n",
    "axes[0].set_title(\"Cumulative HML Performance\", size=16)\n",
    "axes[0].set_xlabel(\"Year\", size=14)\n",
    "yticks = np.linspace(0, (df[\"HML cumulative\"]-1).max() // 10 * 10, 5)\n",
    "axes[0].set_yticks(yticks)\n",
    "axes[0].set_yticklabels([f\"{tick:.0%}\" for tick in yticks], size=13)\n",
    "axes[0].set_ylabel(\"Cumulative Return\", size=14)\n",
    "axes[0].plot(df[\"HML cumulative\"]-1, color=\"#4459c2\")\n",
    "axes[0].axvline(x=(1992-1970)*365, label=\"Paper Publish Year\", color=\"#db8a8a\")\n",
    "axes[0].legend(fontsize=11, loc=\"upper right\");\n",
    "\n",
    "axes[1].set_title(\"HML Drawdown\", size=16)\n",
    "axes[1].set_xlabel(\"Year\", size=14)\n",
    "yticks = [-0.6,-0.4,-0.2, 0]\n",
    "axes[1].set_yticks(yticks)\n",
    "axes[1].set_yticklabels([f\"{tick:.0%}\" for tick in yticks], size=13)\n",
    "axes[1].set_ylabel(\"Drawdown\", size=14)\n",
    "axes[1].plot(df[\"HML drawdown\"], color=\"#4459c2\")\n",
    "axes[1].axvline(x=(1992-1970)*365, label=\"Paper Publish Year\", color=\"#db8a8a\")\n",
    "axes[1].legend(fontsize=11, loc=\"upper right\");"
   ]
  },
  {
   "cell_type": "markdown",
   "id": "a0fc5ccf",
   "metadata": {},
   "source": [
    "Neither factor of Fama/French's five-factor model, except for the equity premium itself, has delivered a significant premium since the publication of the respective model in 1992 and 2015, which questions out-of-sample performance of the model to price equity risk.\n",
    "<br>\n",
    "*(although 2015 to today is a too small sample to conclude anything)*"
   ]
  },
  {
   "cell_type": "code",
   "execution_count": 343,
   "id": "5901c9ab",
   "metadata": {},
   "outputs": [
    {
     "name": "stdout",
     "output_type": "stream",
     "text": [
      "Since 1992,...\n",
      "...the Mkt-RF factor returned an average of 0.76% per month with a t-statistic of 3.35.\n",
      "...the SMB factor returned an average of 0.14% per month with a t-statistic of 0.80.\n",
      "...the HML factor returned an average of 0.17% per month with a t-statistic of 1.02.\n",
      "\n",
      "Since 2015,...\n",
      "...the RMW factor returned an average of 0.36% per month with a t-statistic of 1.66.\n",
      "...the CMA factor returned an average of -0.15% per month with a t-statistic of -0.75.\n"
     ]
    }
   ],
   "source": [
    "print(\"Since 1992,...\")\n",
    "for factor in (\"Mkt-RF\", \"SMB\", \"HML\"):   \n",
    "    ols_fit = OLS(df.loc[\"1992-01-01\":, factor], [1 for _ in range(len(df.loc[\"1992-01-01\":, :].index))]).fit()\n",
    "    mean = ols_fit.params[\"const\"]\n",
    "    tstat = ols_fit.tvalues[\"const\"]\n",
    "    print(f\"...the {factor} factor returned an average of {mean:.2%} per month with a t-statistic of {tstat:.2f}.\")\n",
    "print(\"\")\n",
    "print(\"Since 2015,...\")\n",
    "for factor in (\"RMW\", \"CMA\"):   \n",
    "    ols_fit = OLS(df.loc[\"2015-01-01\":, factor], [1 for _ in range(len(df.loc[\"2015-01-01\":, :].index))]).fit()\n",
    "    mean = ols_fit.params[\"const\"]\n",
    "    tstat = ols_fit.tvalues[\"const\"]\n",
    "    print(f\"...the {factor} factor returned an average of {mean:.2%} per month with a t-statistic of {tstat:.2f}.\")"
   ]
  },
  {
   "cell_type": "markdown",
   "id": "6571b57a",
   "metadata": {},
   "source": [
    "With all four factors failing out-of-sample, the question arises whether the factors can deliver any premium going forward.\n",
    "Aside from the nature of the model itself, there are 3 arguments that, considered individually or together, can invalidate the claim that the recent data points to an arbitraged away value premium:\n",
    "<br>\n",
    "1. It can simply be the result of chance.\n",
    "2. The underperformance is explained by changing investors' taste towards growth stocks\n",
    "3. Macroeconomic shifts affected value and growth stocks differently"
   ]
  },
  {
   "cell_type": "markdown",
   "id": "25adc6d9",
   "metadata": {},
   "source": [
    "**1. The underperformance is the result of chance**\n",
    "<br>\n",
    "Given that all factors carry a sizable amount of risk in the form of volatility, it should be of no surprise that a factor with positive mean can underperform for a lengthy period. For example, for an iid white noise process with a yearly mean return of 10% and 20% yearly volatility, there is still a probability of >2% that the process realizes an average return <0 over a period of 20 years. Likewise, the US market portfolio showed multiple periods of 20 year underperformance against bonds."
   ]
  },
  {
   "cell_type": "code",
   "execution_count": 369,
   "id": "bcf810c2",
   "metadata": {},
   "outputs": [
    {
     "name": "stdout",
     "output_type": "stream",
     "text": [
      "\n",
      "Prior to publication in 1992, the value premium delivered a monthly premium of 0.42% with a volatility of 3.68%.\n",
      "Post publication, the average premium was 0.17% per month, hence 0.25% lower.\n",
      "However, incorporating the monthly volatility of 3.20% and the post publication sample size of 360 months, \n",
      "the standard error of the post publication mean is 0.17%.\n",
      "The difference between the prior publication mean and post publication mean thus lies within 1.46 standard deviations or within the probability of 7.24%.\n",
      "Put together, the mere observation of the poor post-publication performance could well be the result of chance.\n",
      "\n"
     ]
    }
   ],
   "source": [
    "prior_mean = df.loc[:\"1992-01-01\", \"HML\"].mean()\n",
    "prior_std = df.loc[:\"1992-01-01\", \"HML\"].std()\n",
    "post_mean = df.loc[\"1992-01-01\":, \"HML\"].mean()\n",
    "post_std = df.loc[\"1992-01-01\":, \"HML\"].std()\n",
    "prior_post_diff = prior_mean - post_mean\n",
    "post_sample_size = df.loc[\"1992-01-01\":, \"HML\"].count()\n",
    "post_std_err = post_std / np.sqrt(post_sample_size)\n",
    "sigma = prior_post_diff / post_std_err\n",
    "p_value = 1 - norm.cdf(sigma)\n",
    "print(\n",
    "f\"\"\"\n",
    "Prior to publication in 1992, the value premium delivered a monthly premium of {prior_mean:.2%} with a volatility of {prior_std:.2%}.\n",
    "Post publication, the average premium was {post_mean:.2%} per month, hence {prior_post_diff:.2%} lower.\n",
    "However, incorporating the monthly volatility of {post_std:.2%} and the post publication sample size of {post_sample_size} months, \n",
    "the standard error of the post publication mean is {post_std_err:.2%}.\n",
    "The difference between the prior publication mean and post publication mean thus lies within {sigma:.2f} standard deviations or within the probability of {p_value:.2%}.\n",
    "Put together, the mere observation of the poor post-publication performance could well be the result of chance.\n",
    "\"\"\"\n",
    ")"
   ]
  },
  {
   "cell_type": "markdown",
   "id": "0c9220a2",
   "metadata": {},
   "source": [
    "**2. The underperformance is explained by changing investors' taste**\n",
    "<br>"
   ]
  },
  {
   "cell_type": "code",
   "execution_count": null,
   "id": "0e79d899",
   "metadata": {},
   "outputs": [],
   "source": []
  },
  {
   "cell_type": "markdown",
   "id": "bcd19af2",
   "metadata": {},
   "source": [
    "**3. Macroeconomic shifts affected value and growth stocks differently**\n",
    "<br>"
   ]
  },
  {
   "cell_type": "code",
   "execution_count": null,
   "id": "f05e5584",
   "metadata": {},
   "outputs": [],
   "source": []
  }
 ],
 "metadata": {
  "kernelspec": {
   "display_name": "Python 3 (ipykernel)",
   "language": "python",
   "name": "python3"
  },
  "language_info": {
   "codemirror_mode": {
    "name": "ipython",
    "version": 3
   },
   "file_extension": ".py",
   "mimetype": "text/x-python",
   "name": "python",
   "nbconvert_exporter": "python",
   "pygments_lexer": "ipython3",
   "version": "3.9.7"
  }
 },
 "nbformat": 4,
 "nbformat_minor": 5
}
