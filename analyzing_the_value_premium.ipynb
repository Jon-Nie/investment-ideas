{
 "cells": [
  {
   "cell_type": "markdown",
   "id": "93f40c6a",
   "metadata": {},
   "source": [
    "# Analyzing the Value Premium\n",
    "\n",
    "### Introduction\n",
    "In 1992, Eugene Fama and Kenneth French introduced a Three-Factor Model that extends William Sharpe's CAPM with a Size Factor and a Value Factor:\n",
    "<br><br>\n",
    "$$\n",
    "E(r) = \\alpha + \\beta_{1} *  (MKT-R_f) + \\beta_{2} * SMB + \\beta_{3} * HML\n",
    "$$\n",
    "<br>\n",
    "Given the parsimonous structure, the theoretical existence of state variables that investors want to hedge against and its superior performance compared to the CAPM, it has become, together with Fama/French's extended 5-Factor Model, the standard  model to price the cross-section of equity returns.\n",
    "<br>\n",
    "However, since the publication of the paper, both factors failed to deliver any premium out-of-sample and the value premium (HML) saw the largest drawdown in history since the financial crisis 2008/09, erasing a third of its 100-year cumulative outperformance. Sceptics claim that both premia are not related to risk and should unsurpringly vanish once their existence becomes common knowledge.\n",
    "<br>\n",
    "This notebook provides an analysis of the factors that drive the value premium and shows that it cannot be concluded that the value premium is dead.\n",
    "\n",
    "**Data sources:**\n",
    "* Kenneth French's Academic Portfolios (https://mba.tuck.dartmouth.edu/pages/faculty/ken.french/data_library.html)\n",
    "  * In particular *Fama/French 3 Factors* and *6 Portfolios Formed on Size and Book-to-Market (2 x 3)*\n",
    "* Robert Shiller's History of Bond Rates (http://www.econ.yale.edu/~shiller/data.htm)"
   ]
  },
  {
   "cell_type": "code",
   "execution_count": null,
   "id": "6b6c4ad4",
   "metadata": {},
   "outputs": [],
   "source": []
  }
 ],
 "metadata": {
  "kernelspec": {
   "display_name": "Python 3 (ipykernel)",
   "language": "python",
   "name": "python3"
  },
  "language_info": {
   "codemirror_mode": {
    "name": "ipython",
    "version": 3
   },
   "file_extension": ".py",
   "mimetype": "text/x-python",
   "name": "python",
   "nbconvert_exporter": "python",
   "pygments_lexer": "ipython3",
   "version": "3.9.7"
  }
 },
 "nbformat": 4,
 "nbformat_minor": 5
}
