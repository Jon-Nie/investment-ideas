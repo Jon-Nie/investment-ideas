{
 "cells": [
  {
   "cell_type": "markdown",
   "id": "93f40c6a",
   "metadata": {},
   "source": [
    "# Analyzing the Value Premium\n",
    "\n",
    "## Introduction\n",
    "In 1992, Eugene Fama and Kenneth French introduced a Three-Factor Model in their famous paper called \"The Cross-Section of Expected Stock Returns\" that extends William Sharpe's CAPM with a Size Factor (SMB) and a Value Factor (HML):\n",
    "<br><br>\n",
    "$$\n",
    "E(r) = \\alpha + \\beta_{1} *  (MKT-R_f) + \\beta_{2} * SMB + \\beta_{3} * HML\n",
    "$$\n",
    "<br>\n",
    "Given the parsimonous structure, the theoretical existence of state variables that investors want to hedge against and the poor performance of the CAPM, it has become, together with Fama/French's (FF) extended 5-Factor Model, the standard model to price the cross-section of equity returns.\n",
    "<br>\n",
    "However, since the publication of the paper, both factors failed to deliver any premium out-of-sample and the value premium (HML) in particular currently experiences a 20-year long drawdown, erasing half of its entire 100-year cumulative outperformance. Sceptics claim that both premia are unrelated to risk and that the model is a result of data snooping. Once the existence of a new factor becomes common knowledge and investors adapt and try to exploit it, it should, via arbitrage, ultimately vanish. \n",
    "<br>\n",
    "While asset pricing theory points to factors aside from the sensitivity to the market portfolio and although the four additional Fama/French factors are theoretically sound as they directly relate to the pricing equation, it is unclear whether they can indeed proxy the underlying risk factors. This notebook puts aside the theory and provides a quantitative analysis of the drivers of the value premium and shows that it cannot be concluded that the value premium vanished.\n",
    "\n",
    "**Data sources:**\n",
    "* Kenneth French's Academic Portfolios (https://mba.tuck.dartmouth.edu/pages/faculty/ken.french/data_library.html)\n",
    "  * In particular *Fama/French 5 Factors* and *6 Portfolios Formed on Size and Book-to-Market (2 x 3)*\n",
    "* Robert Shiller's History of Bond Rates (http://www.econ.yale.edu/~shiller/data.htm)"
   ]
  },
  {
   "cell_type": "markdown",
   "id": "4bf15624",
   "metadata": {},
   "source": [
    "#### Importing the Data"
   ]
  },
  {
   "cell_type": "code",
   "execution_count": 11,
   "id": "96163055",
   "metadata": {},
   "outputs": [],
   "source": [
    "import numpy as np\n",
    "import pandas as pd\n",
    "import matplotlib.pyplot as plt\n",
    "from statsmodels.api import OLS, add_constant\n",
    "from statsmodels.tsa.arima.model import ARIMA\n",
    "from scipy.stats import jarque_bera\n",
    "from finance_data import FrenchReader, ShillerReader"
   ]
  },
  {
   "cell_type": "code",
   "execution_count": 9,
   "id": "856e773d",
   "metadata": {},
   "outputs": [],
   "source": [
    "plt.style.use(\"seaborn\")\n",
    "plt.rcParams[\"figure.figsize\"] = (12,6)"
   ]
  },
  {
   "cell_type": "code",
   "execution_count": 40,
   "id": "37ace6af",
   "metadata": {},
   "outputs": [
    {
     "data": {
      "text/html": [
       "<div>\n",
       "<style scoped>\n",
       "    .dataframe tbody tr th:only-of-type {\n",
       "        vertical-align: middle;\n",
       "    }\n",
       "\n",
       "    .dataframe tbody tr th {\n",
       "        vertical-align: top;\n",
       "    }\n",
       "\n",
       "    .dataframe thead th {\n",
       "        text-align: right;\n",
       "    }\n",
       "</style>\n",
       "<table border=\"1\" class=\"dataframe\">\n",
       "  <thead>\n",
       "    <tr style=\"text-align: right;\">\n",
       "      <th></th>\n",
       "      <th>Mkt-RF</th>\n",
       "      <th>SMB</th>\n",
       "      <th>HML</th>\n",
       "      <th>RMW</th>\n",
       "      <th>CMA</th>\n",
       "      <th>Mom</th>\n",
       "      <th>RF</th>\n",
       "      <th>10-Year Interest Rate</th>\n",
       "    </tr>\n",
       "  </thead>\n",
       "  <tbody>\n",
       "    <tr>\n",
       "      <th>1927-01-01</th>\n",
       "      <td>-0.0006</td>\n",
       "      <td>-0.0051</td>\n",
       "      <td>0.0473</td>\n",
       "      <td>NaN</td>\n",
       "      <td>NaN</td>\n",
       "      <td>0.0036</td>\n",
       "      <td>0.0025</td>\n",
       "      <td>0.033400</td>\n",
       "    </tr>\n",
       "    <tr>\n",
       "      <th>1927-02-01</th>\n",
       "      <td>0.0418</td>\n",
       "      <td>-0.0025</td>\n",
       "      <td>0.0327</td>\n",
       "      <td>NaN</td>\n",
       "      <td>NaN</td>\n",
       "      <td>-0.0214</td>\n",
       "      <td>0.0026</td>\n",
       "      <td>0.033392</td>\n",
       "    </tr>\n",
       "    <tr>\n",
       "      <th>1927-03-01</th>\n",
       "      <td>0.0013</td>\n",
       "      <td>-0.0189</td>\n",
       "      <td>-0.0256</td>\n",
       "      <td>NaN</td>\n",
       "      <td>NaN</td>\n",
       "      <td>0.0361</td>\n",
       "      <td>0.0030</td>\n",
       "      <td>0.033383</td>\n",
       "    </tr>\n",
       "    <tr>\n",
       "      <th>1927-04-01</th>\n",
       "      <td>0.0046</td>\n",
       "      <td>0.0049</td>\n",
       "      <td>0.0071</td>\n",
       "      <td>NaN</td>\n",
       "      <td>NaN</td>\n",
       "      <td>0.0430</td>\n",
       "      <td>0.0025</td>\n",
       "      <td>0.033375</td>\n",
       "    </tr>\n",
       "    <tr>\n",
       "      <th>1927-05-01</th>\n",
       "      <td>0.0544</td>\n",
       "      <td>0.0146</td>\n",
       "      <td>0.0498</td>\n",
       "      <td>NaN</td>\n",
       "      <td>NaN</td>\n",
       "      <td>0.0300</td>\n",
       "      <td>0.0030</td>\n",
       "      <td>0.033367</td>\n",
       "    </tr>\n",
       "    <tr>\n",
       "      <th>...</th>\n",
       "      <td>...</td>\n",
       "      <td>...</td>\n",
       "      <td>...</td>\n",
       "      <td>...</td>\n",
       "      <td>...</td>\n",
       "      <td>...</td>\n",
       "      <td>...</td>\n",
       "      <td>...</td>\n",
       "    </tr>\n",
       "    <tr>\n",
       "      <th>2021-08-01</th>\n",
       "      <td>0.0290</td>\n",
       "      <td>-0.0048</td>\n",
       "      <td>-0.0013</td>\n",
       "      <td>-0.0026</td>\n",
       "      <td>-0.0167</td>\n",
       "      <td>0.0252</td>\n",
       "      <td>0.0000</td>\n",
       "      <td>0.012800</td>\n",
       "    </tr>\n",
       "    <tr>\n",
       "      <th>2021-09-01</th>\n",
       "      <td>-0.0437</td>\n",
       "      <td>0.0080</td>\n",
       "      <td>0.0509</td>\n",
       "      <td>-0.0194</td>\n",
       "      <td>0.0208</td>\n",
       "      <td>0.0157</td>\n",
       "      <td>0.0000</td>\n",
       "      <td>0.013700</td>\n",
       "    </tr>\n",
       "    <tr>\n",
       "      <th>2021-10-01</th>\n",
       "      <td>0.0665</td>\n",
       "      <td>-0.0228</td>\n",
       "      <td>-0.0044</td>\n",
       "      <td>0.0174</td>\n",
       "      <td>-0.0148</td>\n",
       "      <td>0.0321</td>\n",
       "      <td>0.0000</td>\n",
       "      <td>0.015800</td>\n",
       "    </tr>\n",
       "    <tr>\n",
       "      <th>2021-11-01</th>\n",
       "      <td>-0.0155</td>\n",
       "      <td>-0.0135</td>\n",
       "      <td>-0.0053</td>\n",
       "      <td>0.0738</td>\n",
       "      <td>0.0160</td>\n",
       "      <td>0.0082</td>\n",
       "      <td>0.0000</td>\n",
       "      <td>0.015600</td>\n",
       "    </tr>\n",
       "    <tr>\n",
       "      <th>2021-12-01</th>\n",
       "      <td>0.0310</td>\n",
       "      <td>-0.0158</td>\n",
       "      <td>0.0322</td>\n",
       "      <td>0.0475</td>\n",
       "      <td>0.0438</td>\n",
       "      <td>-0.0268</td>\n",
       "      <td>0.0001</td>\n",
       "      <td>0.014700</td>\n",
       "    </tr>\n",
       "  </tbody>\n",
       "</table>\n",
       "<p>1140 rows × 8 columns</p>\n",
       "</div>"
      ],
      "text/plain": [
       "            Mkt-RF     SMB     HML     RMW     CMA     Mom      RF  \\\n",
       "1927-01-01 -0.0006 -0.0051  0.0473     NaN     NaN  0.0036  0.0025   \n",
       "1927-02-01  0.0418 -0.0025  0.0327     NaN     NaN -0.0214  0.0026   \n",
       "1927-03-01  0.0013 -0.0189 -0.0256     NaN     NaN  0.0361  0.0030   \n",
       "1927-04-01  0.0046  0.0049  0.0071     NaN     NaN  0.0430  0.0025   \n",
       "1927-05-01  0.0544  0.0146  0.0498     NaN     NaN  0.0300  0.0030   \n",
       "...            ...     ...     ...     ...     ...     ...     ...   \n",
       "2021-08-01  0.0290 -0.0048 -0.0013 -0.0026 -0.0167  0.0252  0.0000   \n",
       "2021-09-01 -0.0437  0.0080  0.0509 -0.0194  0.0208  0.0157  0.0000   \n",
       "2021-10-01  0.0665 -0.0228 -0.0044  0.0174 -0.0148  0.0321  0.0000   \n",
       "2021-11-01 -0.0155 -0.0135 -0.0053  0.0738  0.0160  0.0082  0.0000   \n",
       "2021-12-01  0.0310 -0.0158  0.0322  0.0475  0.0438 -0.0268  0.0001   \n",
       "\n",
       "            10-Year Interest Rate  \n",
       "1927-01-01               0.033400  \n",
       "1927-02-01               0.033392  \n",
       "1927-03-01               0.033383  \n",
       "1927-04-01               0.033375  \n",
       "1927-05-01               0.033367  \n",
       "...                           ...  \n",
       "2021-08-01               0.012800  \n",
       "2021-09-01               0.013700  \n",
       "2021-10-01               0.015800  \n",
       "2021-11-01               0.015600  \n",
       "2021-12-01               0.014700  \n",
       "\n",
       "[1140 rows x 8 columns]"
      ]
     },
     "execution_count": 40,
     "metadata": {},
     "output_type": "execute_result"
    }
   ],
   "source": [
    "bond_rate = ShillerReader.cape()[\"10-Year Interest Rate\"] / 100\n",
    "ff3 = FrenchReader(\"F-F_Research_Data_Factors\").read()[\"Main\"] / 100\n",
    "ff5 = FrenchReader(\"F-F_Research_Data_5_Factors_2x3\").read()[\"Main\"] / 100\n",
    "mom = FrenchReader(\"F-F_Momentum_Factor\").read()[\"Main\"] / 100\n",
    "df = pd.concat([ff3, mom, bond_rate], axis=1).dropna()\n",
    "df[\"RMW\"] = ff5[\"RMW\"]\n",
    "df[\"CMA\"] = ff5[\"CMA\"]\n",
    "df = df[[\"Mkt-RF\", \"SMB\", \"HML\", \"RMW\", \"CMA\", \"Mom\", \"RF\", \"10-Year Interest Rate\"]]\n",
    "portfolio_data = FrenchReader(\"6_Portfolios_2x3\").read()\n",
    "df"
   ]
  },
  {
   "cell_type": "code",
   "execution_count": 4,
   "id": "6c194d5d",
   "metadata": {
    "scrolled": true
   },
   "outputs": [
    {
     "name": "stdout",
     "output_type": "stream",
     "text": [
      "Average Value Weighted Returns Monthly\n",
      "Average Equal Weighted Returns Monthly\n",
      "Average Value Weighted Returns Annual\n",
      "Average Equal Weighted Returns Annual\n",
      "Number of Firms in Portfolios\n",
      "Average Market Cap\n",
      "Value Weight Average of BE/ME\n",
      "Value Weight Average of BE_FYt-1/ME_June\n",
      "Value Weight Average of OP\n",
      "Value Weight Average of investment\n"
     ]
    }
   ],
   "source": [
    "portfolio_data = FrenchReader(\"6_Portfolios_2x3\").read()\n",
    "for dataset in portfolio_data.keys():\n",
    "    print(dataset)"
   ]
  },
  {
   "cell_type": "markdown",
   "id": "86315f98",
   "metadata": {},
   "source": [
    "## Analysis"
   ]
  },
  {
   "cell_type": "markdown",
   "id": "c47ef5af",
   "metadata": {},
   "source": [
    "Since 2004, the value premium had its largest drawdown in history and shed about half of its entire cumulative outperformance since 1927."
   ]
  },
  {
   "cell_type": "code",
   "execution_count": 10,
   "id": "3c49b0a1",
   "metadata": {
    "scrolled": false
   },
   "outputs": [
    {
     "data": {
      "image/png": "[encoded data removed]",
      "text/plain": [
       "<Figure size 1008x504 with 2 Axes>"
      ]
     },
     "metadata": {},
     "output_type": "display_data"
    }
   ],
   "source": [
    "df[\"HML cumulative\"] = (1+df[\"HML\"]).cumprod()\n",
    "df[\"HML drawdown\"] = df[\"HML cumulative\"] / df[\"HML cumulative\"].cummax() - 1\n",
    "\n",
    "figure, axes = plt.subplots(2, gridspec_kw={'height_ratios': [5, 3]}, figsize=(14,7))\n",
    "plt.subplots_adjust(hspace=0.4)\n",
    "figure.suptitle(\"A Century of the Value Premium\", fontsize=18, fontweight=\"bold\")\n",
    "\n",
    "axes[0].set_title(\"Cumulative HML Performance\", size=16)\n",
    "axes[0].set_xlabel(\"Year\", size=14)\n",
    "yticks = np.linspace(0, (df[\"HML cumulative\"]-1).max() // 10 * 10, 5)\n",
    "axes[0].set_yticks(yticks)\n",
    "axes[0].set_yticklabels([f\"{tick:.0%}\" for tick in yticks], size=13)\n",
    "axes[0].set_ylabel(\"Cumulative Return\", size=14)\n",
    "axes[0].plot(df[\"HML cumulative\"]-1, color=\"#4459c2\")\n",
    "axes[0].axvline(x=(1992-1970)*365, label=\"Paper Publish Year\", color=\"#db8a8a\")\n",
    "axes[0].legend(fontsize=11, loc=\"upper right\");\n",
    "\n",
    "axes[1].set_title(\"HML Drawdown\", size=16)\n",
    "axes[1].set_xlabel(\"Year\", size=14)\n",
    "yticks = [-0.6,-0.4,-0.2, 0]\n",
    "axes[1].set_yticks(yticks)\n",
    "axes[1].set_yticklabels([f\"{tick:.0%}\" for tick in yticks], size=13)\n",
    "axes[1].set_ylabel(\"Drawdown\", size=14)\n",
    "axes[1].plot(df[\"HML drawdown\"], color=\"#4459c2\")\n",
    "axes[1].axvline(x=(1992-1970)*365, label=\"Paper Publish Year\", color=\"#db8a8a\")\n",
    "axes[1].legend(fontsize=11, loc=\"upper right\");"
   ]
  },
  {
   "cell_type": "markdown",
   "id": "a0fc5ccf",
   "metadata": {},
   "source": [
    "Neither factor of Fama/French's five-factor model, except for the equity premium itself, has delivered a significant premium since the publication of the respective model in 1992 and 2015, which questions out-of-sample performance of the model to price equity risk.\n",
    "<br>\n",
    "*(although 2015 to today is a too small sample to conclude anything)*"
   ]
  },
  {
   "cell_type": "code",
   "execution_count": 12,
   "id": "5901c9ab",
   "metadata": {},
   "outputs": [
    {
     "name": "stdout",
     "output_type": "stream",
     "text": [
      "Since 1992,...\n",
      "...the Mkt-RF factor returned an average of 0.76% per month with a t-statistic of 3.35.\n",
      "...the SMB factor returned an average of 0.14% per month with a t-statistic of 0.80.\n",
      "...the HML factor returned an average of 0.17% per month with a t-statistic of 1.02.\n",
      "\n",
      "Since 2015,...\n",
      "...the RMW factor returned an average of 0.36% per month with a t-statistic of 1.66.\n",
      "...the CMA factor returned an average of -0.15% per month with a t-statistic of -0.75.\n"
     ]
    }
   ],
   "source": [
    "print(\"Since 1992,...\")\n",
    "for factor in (\"Mkt-RF\", \"SMB\", \"HML\"):   \n",
    "    ols_fit = OLS(df.loc[\"1992-01-01\":, factor], [1 for _ in range(len(df.loc[\"1992-01-01\":, :].index))]).fit()\n",
    "    mean = ols_fit.params[\"const\"]\n",
    "    tstat = ols_fit.tvalues[\"const\"]\n",
    "    print(f\"...the {factor} factor returned an average of {mean:.2%} per month with a t-statistic of {tstat:.2f}.\")\n",
    "print(\"\")\n",
    "print(\"Since 2015,...\")\n",
    "for factor in (\"RMW\", \"CMA\"):   \n",
    "    ols_fit = OLS(df.loc[\"2015-01-01\":, factor], [1 for _ in range(len(df.loc[\"2015-01-01\":, :].index))]).fit()\n",
    "    mean = ols_fit.params[\"const\"]\n",
    "    tstat = ols_fit.tvalues[\"const\"]\n",
    "    print(f\"...the {factor} factor returned an average of {mean:.2%} per month with a t-statistic of {tstat:.2f}.\")"
   ]
  },
  {
   "cell_type": "markdown",
   "id": "6571b57a",
   "metadata": {},
   "source": [
    "With all four factors failing out-of-sample, the question arises whether the factors can deliver any premium going forward.\n",
    "Aside from the nature of the model itself, there are 3 arguments that, considered individually or together, can invalidate the claim that the recent data points to an arbitraged away value premium:\n",
    "<br>\n",
    "1. It can simply be the result of chance.\n",
    "2. The underperformance is explained by changing investors' taste towards growth stocks\n",
    "3. Macroeconomic shifts affected value and growth stocks differently"
   ]
  },
  {
   "cell_type": "markdown",
   "id": "25adc6d9",
   "metadata": {},
   "source": [
    "**1. The underperformance is the result of chance**\n",
    "<br>\n",
    "Given that all factors carry a sizable amount of risk in the form of volatility, it should be of no surprise that a factor with positive mean can underperform for a lengthy period. For example, for an iid normally distributed white noise process with a yearly mean return of 10% and 20% yearly volatility, there is still a probability of >2% that the process realizes an average return <0 over a period of 20 years. Likewise, the US market portfolio showed multiple periods of 20 year underperformance against bonds.\n",
    "<br>\n",
    "So let's analyze the probability that the HML underperformance is due to chance:"
   ]
  },
  {
   "cell_type": "code",
   "execution_count": 41,
   "id": "b7a968a5",
   "metadata": {},
   "outputs": [],
   "source": [
    "prior_mean = df.loc[:\"1992-01-01\", \"HML\"].mean()\n",
    "prior_std = df.loc[:\"1992-01-01\", \"HML\"].std()"
   ]
  },
  {
   "cell_type": "markdown",
   "id": "9ba5ada1",
   "metadata": {},
   "source": [
    "Pior to publication in 1992, the Value Premium had delivered an average monthly excess return of"
   ]
  },
  {
   "cell_type": "code",
   "execution_count": 19,
   "id": "e7f55448",
   "metadata": {},
   "outputs": [
    {
     "name": "stdout",
     "output_type": "stream",
     "text": [
      "0.42%\n"
     ]
    }
   ],
   "source": [
    "print(f\"{prior_mean:.2%}\")"
   ]
  },
  {
   "cell_type": "markdown",
   "id": "9ece00f3",
   "metadata": {},
   "source": [
    "with a monthly volatility of"
   ]
  },
  {
   "cell_type": "code",
   "execution_count": 24,
   "id": "67758fec",
   "metadata": {},
   "outputs": [
    {
     "name": "stdout",
     "output_type": "stream",
     "text": [
      "3.68%.\n"
     ]
    }
   ],
   "source": [
    "print(f\"{prior_std:.2%}.\")"
   ]
  },
  {
   "cell_type": "markdown",
   "id": "cd5a7fdd",
   "metadata": {},
   "source": [
    "Assuming a gaussian distribution of the value premium, we can compute the probability of the post-publication realized value premium, assuming the same mean and volatility pre-publication. Given the increasing number of factor ETFs to give retail investors access to alternative factor premia, and investors needing some time to adapt to new academic research, I do the same for the subsamples of 1997, 2002, 2007 onwards."
   ]
  },
  {
   "cell_type": "code",
   "execution_count": 39,
   "id": "2cacaeac",
   "metadata": {},
   "outputs": [
    {
     "name": "stdout",
     "output_type": "stream",
     "text": [
      "The respective sample size of each considered subsample is as follows\n",
      "\n",
      "The sample size spanning from January 1992 to today is 360 months.\n",
      "The sample size spanning from January 1997 to today is 300 months.\n",
      "The sample size spanning from January 2002 to today is 240 months.\n",
      "The sample size spanning from January 2007 to today is 180 months.\n"
     ]
    }
   ],
   "source": [
    "print(\"The respective sample size of each considered subsample is as follows:\\n\")\n",
    "for year in (1992, 1997, 2002, 2007):\n",
    "    sample_size = df.loc[f\"{year}-01-01\":, \"HML\"].count()\n",
    "    print(f\"The sample size spanning from January {year} to today is {sample_size} months.\")"
   ]
  },
  {
   "cell_type": "markdown",
   "id": "44e81108",
   "metadata": {},
   "source": [
    "Turning to the probabilities that the value premium realizes such low returns as we have seen since publication and assuming that the premium is mean- and variance-stationary, we get the following values."
   ]
  },
  {
   "cell_type": "code",
   "execution_count": 120,
   "id": "0c50b9f3",
   "metadata": {},
   "outputs": [
    {
     "name": "stdout",
     "output_type": "stream",
     "text": [
      "For the subsample from January 1992 to today, the probability of an average return less than 0.17% per month, is 7.24%\n",
      "For the subsample from January 1997 to today, the probability of an average return less than 0.05% per month, is 2.90%\n",
      "For the subsample from January 2002 to today, the probability of an average return less than -0.07% per month, is 0.39%\n",
      "For the subsample from January 2007 to today, the probability of an average return less than -0.31% per month, is 0.08%\n"
     ]
    }
   ],
   "source": [
    "for year in (1992, 1997, 2002, 2007):\n",
    "    sample_size = df.loc[f\"{year}-01-01\":, \"HML\"].count()\n",
    "    std_err = df.loc[f\"{year}-01-01\":, \"HML\"].std() / np.sqrt(sample_size)\n",
    "    realized_mean = df.loc[f\"{year}-01-01\":, \"HML\"].mean()\n",
    "    mean_diff = realized_mean - prior_mean\n",
    "    z_value = mean_diff / std_err\n",
    "    p_value = norm.cdf(z_value)\n",
    "    print(f\"For the subsample from January {year} to today, the probability of an average return less than {realized_mean:.2%} per month, is {p_value:.2%}\")"
   ]
  },
  {
   "cell_type": "markdown",
   "id": "99c36d10",
   "metadata": {},
   "source": [
    "So far, one could certainly (and possibly unsurpringly) argue that the value premium has a structural break between pre- and post-publication of the paper\n",
    "However, running the same for a hypothesis of mean 0 post-publication gives the following results:"
   ]
  },
  {
   "cell_type": "code",
   "execution_count": 119,
   "id": "0f71facc",
   "metadata": {},
   "outputs": [
    {
     "name": "stdout",
     "output_type": "stream",
     "text": [
      "For the subsample from January 1992 to today, the probability of an average return less than 0.17% per month is 84.55%\n",
      "For the subsample from January 1997 to today, the probability of an average return less than 0.05% per month is 61.13%\n",
      "For the subsample from January 2002 to today, the probability of an average return less than -0.07% per month is 35.60%\n",
      "For the subsample from January 2007 to today, the probability of an average return less than -0.31% per month is 9.14%\n"
     ]
    }
   ],
   "source": [
    "for year in (1992, 1997, 2002, 2007):\n",
    "    sample_size = df.loc[f\"{year}-01-01\":, \"HML\"].count()\n",
    "    std_err = df.loc[f\"{year}-01-01\":, \"HML\"].std() / np.sqrt(sample_size)\n",
    "    realized_mean = df.loc[f\"{year}-01-01\":, \"HML\"].mean()\n",
    "    mean_diff = realized_mean - 0\n",
    "    z_value = mean_diff / std_err\n",
    "    p_value = norm.cdf(z_value)\n",
    "    print(f\"For the subsample from January {year} to today, the probability of an average return less than {realized_mean:.2%} per month is {p_value:.2%}\")"
   ]
  },
  {
   "cell_type": "markdown",
   "id": "39250ec9",
   "metadata": {},
   "source": [
    "Therefore, based on the assumptions and the mere data, it is not possible to argue that the value premium is dead.\n",
    "<br>\n",
    "The biggest issue though is that the empirical distribution of the value premium is indeed non-normal, although I assumed normality so far."
   ]
  },
  {
   "cell_type": "code",
   "execution_count": 96,
   "id": "98400a4a",
   "metadata": {},
   "outputs": [],
   "source": [
    "prior_skew = df.loc[:\"1992-01-01\", \"HML\"].skew()\n",
    "prior_kurt = df.loc[:\"1992-01-01\", \"HML\"].kurt()\n",
    "jb = jarque_bera(df.loc[:\"1992-01-01\", \"HML\"]).pvalue"
   ]
  },
  {
   "cell_type": "markdown",
   "id": "3d57480f",
   "metadata": {},
   "source": [
    "Its skewness is"
   ]
  },
  {
   "cell_type": "code",
   "execution_count": 97,
   "id": "2e156241",
   "metadata": {},
   "outputs": [
    {
     "data": {
      "text/plain": [
       "2.73"
      ]
     },
     "execution_count": 97,
     "metadata": {},
     "output_type": "execute_result"
    }
   ],
   "source": [
    "np.round(prior_skew, 2)"
   ]
  },
  {
   "cell_type": "markdown",
   "id": "536a1371",
   "metadata": {},
   "source": [
    "and its excess kurtosis is"
   ]
  },
  {
   "cell_type": "code",
   "execution_count": 98,
   "id": "2ade6dcd",
   "metadata": {},
   "outputs": [
    {
     "data": {
      "text/plain": [
       "22.91"
      ]
     },
     "execution_count": 98,
     "metadata": {},
     "output_type": "execute_result"
    }
   ],
   "source": [
    "np.round(prior_kurt, 2)"
   ]
  },
  {
   "cell_type": "markdown",
   "id": "6ccab702",
   "metadata": {},
   "source": [
    ", both well above that of a normal distribution. Accordingly, a jarque-bera test easily rejects the hypothesis of a normal distribution with a significance level <1%"
   ]
  },
  {
   "cell_type": "code",
   "execution_count": 99,
   "id": "0064c648",
   "metadata": {},
   "outputs": [
    {
     "name": "stdout",
     "output_type": "stream",
     "text": [
      "0.00%\n"
     ]
    }
   ],
   "source": [
    "print(f\"{jb:.2%}\")"
   ]
  },
  {
   "cell_type": "markdown",
   "id": "7742ee42",
   "metadata": {},
   "source": [
    "Therefore, it is important to account for the non-normality and compute the same probabilities by incorporating the empirical distribution instead of assuming normality. For that, I bootstrap intervals by drawing n times (n=sample size) with replacement from the empirical distribution until January 1992. I do it 100.000 times for each subsample and check the probability of an average return less than the respective realized return."
   ]
  },
  {
   "cell_type": "code",
   "execution_count": 221,
   "id": "ca8227e6",
   "metadata": {},
   "outputs": [
    {
     "data": {
      "text/html": [
       "<div>\n",
       "<style scoped>\n",
       "    .dataframe tbody tr th:only-of-type {\n",
       "        vertical-align: middle;\n",
       "    }\n",
       "\n",
       "    .dataframe tbody tr th {\n",
       "        vertical-align: top;\n",
       "    }\n",
       "\n",
       "    .dataframe thead th {\n",
       "        text-align: right;\n",
       "    }\n",
       "</style>\n",
       "<table border=\"1\" class=\"dataframe\">\n",
       "  <thead>\n",
       "    <tr style=\"text-align: right;\">\n",
       "      <th></th>\n",
       "      <th>0</th>\n",
       "      <th>1</th>\n",
       "      <th>2</th>\n",
       "      <th>3</th>\n",
       "      <th>4</th>\n",
       "      <th>5</th>\n",
       "      <th>6</th>\n",
       "      <th>7</th>\n",
       "      <th>8</th>\n",
       "      <th>9</th>\n",
       "      <th>...</th>\n",
       "      <th>99990</th>\n",
       "      <th>99991</th>\n",
       "      <th>99992</th>\n",
       "      <th>99993</th>\n",
       "      <th>99994</th>\n",
       "      <th>99995</th>\n",
       "      <th>99996</th>\n",
       "      <th>99997</th>\n",
       "      <th>99998</th>\n",
       "      <th>99999</th>\n",
       "    </tr>\n",
       "  </thead>\n",
       "  <tbody>\n",
       "    <tr>\n",
       "      <th>0</th>\n",
       "      <td>-0.0261</td>\n",
       "      <td>0.0413</td>\n",
       "      <td>-0.0142</td>\n",
       "      <td>-0.0070</td>\n",
       "      <td>0.0324</td>\n",
       "      <td>-0.0421</td>\n",
       "      <td>0.0168</td>\n",
       "      <td>0.0542</td>\n",
       "      <td>0.0115</td>\n",
       "      <td>-0.0207</td>\n",
       "      <td>...</td>\n",
       "      <td>-0.0296</td>\n",
       "      <td>0.0151</td>\n",
       "      <td>0.0007</td>\n",
       "      <td>-0.0018</td>\n",
       "      <td>-0.0142</td>\n",
       "      <td>-0.0284</td>\n",
       "      <td>-0.0062</td>\n",
       "      <td>-0.0155</td>\n",
       "      <td>0.0117</td>\n",
       "      <td>0.0261</td>\n",
       "    </tr>\n",
       "    <tr>\n",
       "      <th>1</th>\n",
       "      <td>0.0064</td>\n",
       "      <td>-0.0279</td>\n",
       "      <td>0.0407</td>\n",
       "      <td>0.0054</td>\n",
       "      <td>-0.0192</td>\n",
       "      <td>0.0394</td>\n",
       "      <td>0.0038</td>\n",
       "      <td>0.0068</td>\n",
       "      <td>-0.0242</td>\n",
       "      <td>-0.0121</td>\n",
       "      <td>...</td>\n",
       "      <td>-0.0233</td>\n",
       "      <td>-0.0131</td>\n",
       "      <td>0.0045</td>\n",
       "      <td>0.0110</td>\n",
       "      <td>-0.0142</td>\n",
       "      <td>0.0430</td>\n",
       "      <td>0.0136</td>\n",
       "      <td>0.0562</td>\n",
       "      <td>0.0023</td>\n",
       "      <td>-0.0122</td>\n",
       "    </tr>\n",
       "    <tr>\n",
       "      <th>2</th>\n",
       "      <td>0.0495</td>\n",
       "      <td>-0.0001</td>\n",
       "      <td>-0.0421</td>\n",
       "      <td>0.0268</td>\n",
       "      <td>0.0128</td>\n",
       "      <td>0.0085</td>\n",
       "      <td>-0.0026</td>\n",
       "      <td>0.0010</td>\n",
       "      <td>0.0566</td>\n",
       "      <td>-0.0035</td>\n",
       "      <td>...</td>\n",
       "      <td>0.0293</td>\n",
       "      <td>0.0495</td>\n",
       "      <td>0.0539</td>\n",
       "      <td>0.0041</td>\n",
       "      <td>0.0371</td>\n",
       "      <td>0.0008</td>\n",
       "      <td>-0.0214</td>\n",
       "      <td>0.0056</td>\n",
       "      <td>0.0160</td>\n",
       "      <td>-0.0270</td>\n",
       "    </tr>\n",
       "    <tr>\n",
       "      <th>3</th>\n",
       "      <td>-0.0444</td>\n",
       "      <td>0.0382</td>\n",
       "      <td>-0.0113</td>\n",
       "      <td>-0.0079</td>\n",
       "      <td>0.0009</td>\n",
       "      <td>0.0552</td>\n",
       "      <td>-0.0010</td>\n",
       "      <td>0.0042</td>\n",
       "      <td>0.0664</td>\n",
       "      <td>0.0033</td>\n",
       "      <td>...</td>\n",
       "      <td>-0.0396</td>\n",
       "      <td>-0.0193</td>\n",
       "      <td>0.0051</td>\n",
       "      <td>0.1010</td>\n",
       "      <td>-0.0287</td>\n",
       "      <td>0.0228</td>\n",
       "      <td>0.0047</td>\n",
       "      <td>0.0484</td>\n",
       "      <td>0.0319</td>\n",
       "      <td>0.0117</td>\n",
       "    </tr>\n",
       "    <tr>\n",
       "      <th>4</th>\n",
       "      <td>0.0399</td>\n",
       "      <td>-0.0162</td>\n",
       "      <td>-0.0078</td>\n",
       "      <td>0.0129</td>\n",
       "      <td>0.0143</td>\n",
       "      <td>0.0206</td>\n",
       "      <td>0.0060</td>\n",
       "      <td>-0.0395</td>\n",
       "      <td>0.0072</td>\n",
       "      <td>0.0047</td>\n",
       "      <td>...</td>\n",
       "      <td>-0.0348</td>\n",
       "      <td>0.0272</td>\n",
       "      <td>0.0341</td>\n",
       "      <td>-0.0288</td>\n",
       "      <td>-0.0219</td>\n",
       "      <td>0.0264</td>\n",
       "      <td>-0.0154</td>\n",
       "      <td>0.0383</td>\n",
       "      <td>0.0296</td>\n",
       "      <td>0.0051</td>\n",
       "    </tr>\n",
       "    <tr>\n",
       "      <th>...</th>\n",
       "      <td>...</td>\n",
       "      <td>...</td>\n",
       "      <td>...</td>\n",
       "      <td>...</td>\n",
       "      <td>...</td>\n",
       "      <td>...</td>\n",
       "      <td>...</td>\n",
       "      <td>...</td>\n",
       "      <td>...</td>\n",
       "      <td>...</td>\n",
       "      <td>...</td>\n",
       "      <td>...</td>\n",
       "      <td>...</td>\n",
       "      <td>...</td>\n",
       "      <td>...</td>\n",
       "      <td>...</td>\n",
       "      <td>...</td>\n",
       "      <td>...</td>\n",
       "      <td>...</td>\n",
       "      <td>...</td>\n",
       "      <td>...</td>\n",
       "    </tr>\n",
       "    <tr>\n",
       "      <th>355</th>\n",
       "      <td>-0.0092</td>\n",
       "      <td>0.0030</td>\n",
       "      <td>-0.0230</td>\n",
       "      <td>-0.0180</td>\n",
       "      <td>0.0040</td>\n",
       "      <td>0.0539</td>\n",
       "      <td>0.0310</td>\n",
       "      <td>-0.0121</td>\n",
       "      <td>0.0176</td>\n",
       "      <td>-0.0133</td>\n",
       "      <td>...</td>\n",
       "      <td>0.0003</td>\n",
       "      <td>0.0010</td>\n",
       "      <td>0.0312</td>\n",
       "      <td>-0.0010</td>\n",
       "      <td>0.1010</td>\n",
       "      <td>-0.0213</td>\n",
       "      <td>0.0130</td>\n",
       "      <td>0.0217</td>\n",
       "      <td>0.0168</td>\n",
       "      <td>0.0205</td>\n",
       "    </tr>\n",
       "    <tr>\n",
       "      <th>356</th>\n",
       "      <td>0.0266</td>\n",
       "      <td>-0.0065</td>\n",
       "      <td>-0.0292</td>\n",
       "      <td>-0.0131</td>\n",
       "      <td>0.0033</td>\n",
       "      <td>0.0672</td>\n",
       "      <td>0.0160</td>\n",
       "      <td>0.0023</td>\n",
       "      <td>0.0327</td>\n",
       "      <td>0.0227</td>\n",
       "      <td>...</td>\n",
       "      <td>0.0038</td>\n",
       "      <td>-0.0477</td>\n",
       "      <td>0.0001</td>\n",
       "      <td>0.3424</td>\n",
       "      <td>0.1356</td>\n",
       "      <td>0.0453</td>\n",
       "      <td>-0.0458</td>\n",
       "      <td>0.0027</td>\n",
       "      <td>0.0151</td>\n",
       "      <td>-0.0109</td>\n",
       "    </tr>\n",
       "    <tr>\n",
       "      <th>357</th>\n",
       "      <td>0.0129</td>\n",
       "      <td>-0.0244</td>\n",
       "      <td>-0.0180</td>\n",
       "      <td>-0.0024</td>\n",
       "      <td>0.0470</td>\n",
       "      <td>0.0343</td>\n",
       "      <td>0.0327</td>\n",
       "      <td>0.0312</td>\n",
       "      <td>-0.0039</td>\n",
       "      <td>0.0175</td>\n",
       "      <td>...</td>\n",
       "      <td>0.0551</td>\n",
       "      <td>0.0081</td>\n",
       "      <td>-0.0905</td>\n",
       "      <td>0.0000</td>\n",
       "      <td>0.0130</td>\n",
       "      <td>-0.0054</td>\n",
       "      <td>0.0343</td>\n",
       "      <td>0.0032</td>\n",
       "      <td>-0.0284</td>\n",
       "      <td>0.0637</td>\n",
       "    </tr>\n",
       "    <tr>\n",
       "      <th>358</th>\n",
       "      <td>0.0085</td>\n",
       "      <td>0.0063</td>\n",
       "      <td>-0.0026</td>\n",
       "      <td>0.0483</td>\n",
       "      <td>0.0382</td>\n",
       "      <td>0.0132</td>\n",
       "      <td>-0.0194</td>\n",
       "      <td>0.0059</td>\n",
       "      <td>0.0827</td>\n",
       "      <td>-0.0473</td>\n",
       "      <td>...</td>\n",
       "      <td>-0.0221</td>\n",
       "      <td>0.0060</td>\n",
       "      <td>-0.0057</td>\n",
       "      <td>-0.0375</td>\n",
       "      <td>-0.0270</td>\n",
       "      <td>0.1965</td>\n",
       "      <td>-0.0169</td>\n",
       "      <td>0.0066</td>\n",
       "      <td>-0.0375</td>\n",
       "      <td>0.0015</td>\n",
       "    </tr>\n",
       "    <tr>\n",
       "      <th>359</th>\n",
       "      <td>-0.0988</td>\n",
       "      <td>0.0513</td>\n",
       "      <td>-0.0316</td>\n",
       "      <td>-0.0040</td>\n",
       "      <td>-0.0113</td>\n",
       "      <td>0.0341</td>\n",
       "      <td>0.0063</td>\n",
       "      <td>0.0140</td>\n",
       "      <td>-0.0354</td>\n",
       "      <td>-0.0008</td>\n",
       "      <td>...</td>\n",
       "      <td>-0.0065</td>\n",
       "      <td>0.0003</td>\n",
       "      <td>0.0576</td>\n",
       "      <td>0.0324</td>\n",
       "      <td>0.0044</td>\n",
       "      <td>0.0181</td>\n",
       "      <td>0.0023</td>\n",
       "      <td>-0.1311</td>\n",
       "      <td>0.0551</td>\n",
       "      <td>-0.0736</td>\n",
       "    </tr>\n",
       "  </tbody>\n",
       "</table>\n",
       "<p>360 rows × 100000 columns</p>\n",
       "</div>"
      ],
      "text/plain": [
       "      0       1       2       3       4       5       6       7       8      \\\n",
       "0   -0.0261  0.0413 -0.0142 -0.0070  0.0324 -0.0421  0.0168  0.0542  0.0115   \n",
       "1    0.0064 -0.0279  0.0407  0.0054 -0.0192  0.0394  0.0038  0.0068 -0.0242   \n",
       "2    0.0495 -0.0001 -0.0421  0.0268  0.0128  0.0085 -0.0026  0.0010  0.0566   \n",
       "3   -0.0444  0.0382 -0.0113 -0.0079  0.0009  0.0552 -0.0010  0.0042  0.0664   \n",
       "4    0.0399 -0.0162 -0.0078  0.0129  0.0143  0.0206  0.0060 -0.0395  0.0072   \n",
       "..      ...     ...     ...     ...     ...     ...     ...     ...     ...   \n",
       "355 -0.0092  0.0030 -0.0230 -0.0180  0.0040  0.0539  0.0310 -0.0121  0.0176   \n",
       "356  0.0266 -0.0065 -0.0292 -0.0131  0.0033  0.0672  0.0160  0.0023  0.0327   \n",
       "357  0.0129 -0.0244 -0.0180 -0.0024  0.0470  0.0343  0.0327  0.0312 -0.0039   \n",
       "358  0.0085  0.0063 -0.0026  0.0483  0.0382  0.0132 -0.0194  0.0059  0.0827   \n",
       "359 -0.0988  0.0513 -0.0316 -0.0040 -0.0113  0.0341  0.0063  0.0140 -0.0354   \n",
       "\n",
       "      9      ...   99990   99991   99992   99993   99994   99995   99996  \\\n",
       "0   -0.0207  ... -0.0296  0.0151  0.0007 -0.0018 -0.0142 -0.0284 -0.0062   \n",
       "1   -0.0121  ... -0.0233 -0.0131  0.0045  0.0110 -0.0142  0.0430  0.0136   \n",
       "2   -0.0035  ...  0.0293  0.0495  0.0539  0.0041  0.0371  0.0008 -0.0214   \n",
       "3    0.0033  ... -0.0396 -0.0193  0.0051  0.1010 -0.0287  0.0228  0.0047   \n",
       "4    0.0047  ... -0.0348  0.0272  0.0341 -0.0288 -0.0219  0.0264 -0.0154   \n",
       "..      ...  ...     ...     ...     ...     ...     ...     ...     ...   \n",
       "355 -0.0133  ...  0.0003  0.0010  0.0312 -0.0010  0.1010 -0.0213  0.0130   \n",
       "356  0.0227  ...  0.0038 -0.0477  0.0001  0.3424  0.1356  0.0453 -0.0458   \n",
       "357  0.0175  ...  0.0551  0.0081 -0.0905  0.0000  0.0130 -0.0054  0.0343   \n",
       "358 -0.0473  ... -0.0221  0.0060 -0.0057 -0.0375 -0.0270  0.1965 -0.0169   \n",
       "359 -0.0008  ... -0.0065  0.0003  0.0576  0.0324  0.0044  0.0181  0.0023   \n",
       "\n",
       "      99997   99998   99999  \n",
       "0   -0.0155  0.0117  0.0261  \n",
       "1    0.0562  0.0023 -0.0122  \n",
       "2    0.0056  0.0160 -0.0270  \n",
       "3    0.0484  0.0319  0.0117  \n",
       "4    0.0383  0.0296  0.0051  \n",
       "..      ...     ...     ...  \n",
       "355  0.0217  0.0168  0.0205  \n",
       "356  0.0027  0.0151 -0.0109  \n",
       "357  0.0032 -0.0284  0.0637  \n",
       "358  0.0066 -0.0375  0.0015  \n",
       "359 -0.1311  0.0551 -0.0736  \n",
       "\n",
       "[360 rows x 100000 columns]"
      ]
     },
     "execution_count": 221,
     "metadata": {},
     "output_type": "execute_result"
    }
   ],
   "source": [
    "series = {}\n",
    "sample_size = df.loc[\"1992-01-01\":, \"HML\"].count()\n",
    "for i in range(100_000):\n",
    "    series[i] = pd.Series(np.random.choice(df.loc[:f\"1992-01-01\", \"HML\"], sample_size))\n",
    "bootstrapped_df = pd.DataFrame(series)\n",
    "bootstrapped_df"
   ]
  },
  {
   "cell_type": "markdown",
   "id": "0c9220a2",
   "metadata": {},
   "source": [
    "**2. The underperformance is explained by changing investors' taste**\n",
    "<br>"
   ]
  },
  {
   "cell_type": "code",
   "execution_count": null,
   "id": "81e25ed8",
   "metadata": {},
   "outputs": [],
   "source": []
  },
  {
   "cell_type": "code",
   "execution_count": null,
   "id": "f7a371c8",
   "metadata": {},
   "outputs": [],
   "source": []
  },
  {
   "cell_type": "code",
   "execution_count": null,
   "id": "50b00295",
   "metadata": {},
   "outputs": [],
   "source": []
  },
  {
   "cell_type": "code",
   "execution_count": null,
   "id": "fd11b65a",
   "metadata": {},
   "outputs": [],
   "source": []
  },
  {
   "cell_type": "markdown",
   "id": "bcd19af2",
   "metadata": {},
   "source": [
    "**3. Macroeconomic shifts affected value and growth stocks differently**\n",
    "<br>"
   ]
  },
  {
   "cell_type": "code",
   "execution_count": null,
   "id": "726e4e77",
   "metadata": {},
   "outputs": [],
   "source": []
  }
 ],
 "metadata": {
  "kernelspec": {
   "display_name": "Python 3 (ipykernel)",
   "language": "python",
   "name": "python3"
  },
  "language_info": {
   "codemirror_mode": {
    "name": "ipython",
    "version": 3
   },
   "file_extension": ".py",
   "mimetype": "text/x-python",
   "name": "python",
   "nbconvert_exporter": "python",
   "pygments_lexer": "ipython3",
   "version": "3.9.7"
  }
 },
 "nbformat": 4,
 "nbformat_minor": 5
}
