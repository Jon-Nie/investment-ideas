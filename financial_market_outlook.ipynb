{
 "cells": [
  {
   "cell_type": "markdown",
   "id": "7148a59e",
   "metadata": {},
   "source": [
    "# Financial Market Outlook 2024\n",
    "August 2023\n",
    "\n",
    "## Introduction\n",
    "In 2022, induced partly by fiscal stimulus and supply shocks, the USA and many other countries experienced an inflation spike not seen since the 1980s. Given the recent steep drop in inflation rates around the globe and equity markets slowly approaching record highs, the debate, whether the inflation problem is indeed tamed and GDP growth going forward remains at trend while inflation fluctuates around the 2% trend target, is opened.\n",
    "<br>\n",
    "In this notebook, I will put the current macroeconomic cycle into historical perspective and try to gauge its effects on different asset class returns, particularly on equities and different sectors and style tilts. I will argue in favor of the case of a structural inflation issue that naturally arises late in the business cycle, further monetary tightening and the need for a rise in the unemployment rate and a drop in corporate profits.\n",
    "\n",
    "**Table of Contents**\n",
    "1. [Introduction](#1.&nbsp;Introduction)\n",
    "2. [Where are we in the business cycle?](#2.&nbsp;Where&nbsp;are&nbsp;we&nbsp;in&nbsp;the&nbsp;business&nbsp;cycle?)\n",
    "3. [Bonds](#3.&nbsp;Bonds)\n",
    "4. [Equities](#4.&nbsp;Equities)\n",
    "5. [Summary](#5.&nbsp;Summary)\n",
    "\n",
    "**Data sources**\n",
    "* [Federal Feserve Bank of St. Louis](https://fred.stlouisfed.org/)\n",
    "* [Kenneth French's Database](https://mba.tuck.dartmouth.edu/pages/faculty/ken.french/data_library.html)\n",
    "* [Robert Shiller's S&P 500 and Bond Data](http://www.econ.yale.edu/~shiller/data.htm)\n",
    "* [Yahoo Finance](https://finance.yahoo.com)\n",
    "\n",
    "**Dependencies**\n",
    "* [findata](https://github.com/JonasNiemeyer/findata)\n",
    "* matplotlib\n",
    "* numpy\n",
    "* pandas\n",
    "* statsmodels"
   ]
  },
  {
   "cell_type": "markdown",
   "id": "92ac3665",
   "metadata": {},
   "source": [
    "#### Importing the Data"
   ]
  },
  {
   "cell_type": "code",
   "execution_count": 1,
   "id": "6501092b",
   "metadata": {},
   "outputs": [],
   "source": [
    "import pandas as pd\n",
    "import numpy as np\n",
    "import matplotlib.pyplot as plt\n",
    "from findata import (\n",
    "    FREDReader,\n",
    "    FrenchReader,\n",
    "    shiller_data,\n",
    "    YahooReader\n",
    ")\n",
    "from statsmodels.api import OLS, add_constant"
   ]
  },
  {
   "cell_type": "code",
   "execution_count": 2,
   "id": "a7c114a3",
   "metadata": {},
   "outputs": [],
   "source": [
    "plt.style.use(\"seaborn\")\n",
    "plt.rcParams[\"figure.figsize\"] = (16,9)"
   ]
  },
  {
   "cell_type": "code",
   "execution_count": 3,
   "id": "a065a0f3",
   "metadata": {},
   "outputs": [],
   "source": [
    "sp = YahooReader(\"^GSPC\").historical_data()[\"data\"][\"close\"]\n",
    "vix = YahooReader(\"VIX\").historical_data()[\"data\"][\"close\"]\n",
    "\n",
    "shiller_df = shiller_data()\n",
    "\n",
    "datasets = []\n",
    "for dataset, abbr in {\n",
    "    \"Recession\": \"USREC\",\n",
    "    \"Unemployment Rate\": \"UNRATE\",\n",
    "    \"Wages\": \"AHETPI\",\n",
    "    \"CPI\": \"CPIAUCSL\",\n",
    "    \"Core CPI\": \"CPILFESL\",\n",
    "    \"Spending\": \"PCE\",\n",
    "    \"PCE Prices\": \"PCEPI\",\n",
    "    \"Income\": \"PI\",\n",
    "    \"Core PCE Prices\": \"PCEPILFE\",\n",
    "    \"Average Hourly Earnings\": \"AHETPI\",\n",
    "    \"Labor Productivity\": \"OPHNFB\",\n",
    "    \"Federal Funds Rate\": \"FEDFUNDS\",\n",
    "    \"Corporate Profits\": \"CP\"\n",
    "}.items():\n",
    "    series = FREDReader(abbr).historical_data()[abbr]\n",
    "    series.name = dataset\n",
    "    datasets.append(series)\n",
    "macro = pd.concat(datasets, axis=1).ffill()\n",
    "\n",
    "industry5_data = FrenchReader(\"5_Industry_Portfolios\").read()\n",
    "industry5_returns = industry5_data[\"Average Value Weighted Returns Monthly\"] / 100\n",
    "industry12_data = FrenchReader(\"12_Industry_Portfolios\").read()\n",
    "industry12_returns = industry12_data[\"Average Value Weighted Returns Monthly\"] / 100\n",
    "industry49_data = FrenchReader(\"49_Industry_Portfolios\").read()\n",
    "industry49_returns = industry49_data[\"Average Value Weighted Returns Monthly\"] / 100"
   ]
  },
  {
   "cell_type": "markdown",
   "id": "c05cd274",
   "metadata": {},
   "source": [
    "# 1.&nbsp;Introduction"
   ]
  },
  {
   "cell_type": "markdown",
   "id": "9087e820",
   "metadata": {},
   "source": [
    "# 2.&nbsp;Where&nbsp;are&nbsp;we&nbsp;in&nbsp;the&nbsp;business&nbsp;cycle?"
   ]
  },
  {
   "cell_type": "markdown",
   "id": "fa0cbb00",
   "metadata": {},
   "source": [
    "# 3.&nbsp;Bonds"
   ]
  },
  {
   "cell_type": "markdown",
   "id": "8b7a4e16",
   "metadata": {},
   "source": [
    "# 4.&nbsp;Equities"
   ]
  },
  {
   "cell_type": "markdown",
   "id": "b4742d20",
   "metadata": {},
   "source": [
    "# 5.&nbsp;Summary"
   ]
  }
 ],
 "metadata": {
  "kernelspec": {
   "display_name": "Python 3 (ipykernel)",
   "language": "python",
   "name": "python3"
  },
  "language_info": {
   "codemirror_mode": {
    "name": "ipython",
    "version": 3
   },
   "file_extension": ".py",
   "mimetype": "text/x-python",
   "name": "python",
   "nbconvert_exporter": "python",
   "pygments_lexer": "ipython3",
   "version": "3.9.10"
  },
  "vscode": {
   "interpreter": {
    "hash": "53d8f185c1390ea0a8248ce0a5c0ba235224e0f874044819f6c065bb8a249464"
   }
  }
 },
 "nbformat": 4,
 "nbformat_minor": 5
}
