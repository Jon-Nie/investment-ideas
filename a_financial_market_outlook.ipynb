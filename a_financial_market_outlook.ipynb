{
 "cells": [
  {
   "cell_type": "markdown",
   "id": "ee6198eb",
   "metadata": {},
   "source": [
    "# A Financial Market Outlook\n",
    "November 2022\n",
    "\n",
    "## Introduction\n",
    "During the last 40 years, conventional asset allocation wisdom stated that a portfolio consisting of 60% equities and 40% bonds should deliver a superior risk-return profile than an equity-only portfolio. The rationale behind that is the deep negative correlation between stocks and bonds and the fact that in poor economic conditions that dampen equity prices, the central bank steps in and lowers the benchmark interest-rate and investors seeking save-haven assets such as government bonds which drive up bond prices. In fact, during the financial crisis 2008/09, the euro crisis 2011/12 and the start of the covid pandemic 2020, bonds rallied while equities crashed and hence the 60/40 portfolio provided smoother returns.\n",
    "<br>\n",
    "Given the plunge in equity prices accompanied by an even stronger selloff in bonds this year and a strong rising correlation between those two asset classes, many financial market commentators question the functioning of the traditional 60/40 portfolio.\n",
    "<br><br>\n",
    "In this notebook, I will relate the respective asset class returns to the state in the business cycle and its related variables and argue that (government) bonds still have a valuable position in a portfolio. I will show that the last 40 years have been an extreme outlier in favor of a stock/bond allocation which should not be extrapolated as the expectation going forward and that both the equity value premium and a basket of managed commodity futures complement a stock/bond portfolio quite well and that both diversifiers perform particularly well when stock and bond returns are poor as it has been the case this year.\n",
    "<br><br>\n",
    "Finally, I give an outlook and argue that equity returns going forward are expected to be below average and investors should allocate meaningful percentages of their portfolio to commodities, value stocks and bonds.\n",
    "\n",
    "**Table of Contents**\n",
    "\n",
    "**Data sources**\n",
    "\n",
    "**Dependencies**"
   ]
  },
  {
   "cell_type": "code",
   "execution_count": null,
   "id": "9224626c",
   "metadata": {},
   "outputs": [],
   "source": []
  }
 ],
 "metadata": {
  "kernelspec": {
   "display_name": "Python 3 (ipykernel)",
   "language": "python",
   "name": "python3"
  },
  "language_info": {
   "codemirror_mode": {
    "name": "ipython",
    "version": 3
   },
   "file_extension": ".py",
   "mimetype": "text/x-python",
   "name": "python",
   "nbconvert_exporter": "python",
   "pygments_lexer": "ipython3",
   "version": "3.9.10"
  },
  "vscode": {
   "interpreter": {
    "hash": "53d8f185c1390ea0a8248ce0a5c0ba235224e0f874044819f6c065bb8a249464"
   }
  }
 },
 "nbformat": 4,
 "nbformat_minor": 5
}
