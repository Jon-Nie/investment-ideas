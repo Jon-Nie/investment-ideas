{
 "cells": [
  {
   "cell_type": "markdown",
   "id": "8f17909d",
   "metadata": {},
   "source": [
    "## Introduction\n",
    "\n",
    "The objective of this notebook is to identify stocks with high exposure to common equity factors that in turn possess high discount rates / high expected returns. Two procedures are applied:\n",
    "* simple z-scoring which is often used by index providers\n",
    "* Fama-Mac regressions to compute fundamental variable premia to get a composite estimate of the discount rate, following Lewellen (2015)\n",
    "\n",
    "The results can be used to construct concentrated factor-portfolios in real-time that attempt to earn higher risk-adjusted returns than the market portfolio. Since Factor-ETFs often contain hundreds of stocks, they are generally overdiversified and lack significant factor exposure. Concentrated portfolios sorted by fundamentals or discount rates however show high factor exposure and also exploit the major diversification benefits as diversification benefits decay exponentially.\n",
    "\n",
    "**Sample Description**\n",
    "* 5849 Stocks that trade in the US and submit filings to the SEC\n",
    "* Sample spans from 2006 to 2022\n",
    "* Stock price data is compiled from Yahoo Finance\n",
    "* Fundamental data is compiled from Macrotrends\n",
    "* Equity factors are retrieved from Kenneth French's Website\n",
    "\n",
    "*Note: Because the data is retrieved from free sources, its quality might not be as good as it is from proprietary sources such as Bloomberg or Thomson Reuters and hence I apply some preprocessing and cleaning. The final results however are very similar to those I get with fundamental data provided by Thomson Reuters Datastream*.\n",
    "\n",
    "**References**\n",
    "* Fama, E. F., & French, K. R. (2015). A five-factor asset pricing model. Journal of financial economics, 116(1), 1-22.\n",
    "https://www8.gsb.columbia.edu/programs/sites/programs/files/finance/Finance%20Seminar/spring%202014/ken%20french.pdf\n",
    "* Lewellen, J. (2015). The Cross-section of Expected Stock Returns. Critical Finance Review, 4(1), 1-44.\n",
    "http://mba.tuck.dartmouth.edu/pages/faculty/jon.lewellen/docs/expectedstockreturns.pdf\n",
    "* Merton, R. C. (1973). An intertemporal capital asset pricing model. Econometrica: Journal of the Econometric Society, 867-887.\n",
    "https://www.researchgate.net/profile/Robert-Merton-2/publication/4813202_An_Inter-Temporal_Capital_Asset_Pricing_Model/links/54d0b8120cf298d656683a7a/An-Inter-Temporal-Capital-Asset-Pricing-Model.pdf\n",
    "\n",
    "**Library Dependencies**\n",
    "* <a href=https://github.com/Jon-Nie/finance_data>finance_data</a>\n",
    "* <a href=https://github.com/Jon-Nie/finance_database>finance_database</a>\n",
    "* numpy\n",
    "* pandas\n",
    "* matplotlib"
   ]
  },
  {
   "cell_type": "code",
   "execution_count": null,
   "id": "addaeeaa",
   "metadata": {},
   "outputs": [],
   "source": []
  }
 ],
 "metadata": {
  "kernelspec": {
   "display_name": "Python 3 (ipykernel)",
   "language": "python",
   "name": "python3"
  },
  "language_info": {
   "codemirror_mode": {
    "name": "ipython",
    "version": 3
   },
   "file_extension": ".py",
   "mimetype": "text/x-python",
   "name": "python",
   "nbconvert_exporter": "python",
   "pygments_lexer": "ipython3",
   "version": "3.9.10"
  }
 },
 "nbformat": 4,
 "nbformat_minor": 5
}
