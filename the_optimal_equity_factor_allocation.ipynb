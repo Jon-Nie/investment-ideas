{
 "cells": [
  {
   "cell_type": "markdown",
   "id": "e5abcfa4",
   "metadata": {},
   "source": [
    "# The Optimal Equity Factor Allocation\n",
    "January 2023\n",
    "\n",
    "## Introduction\n",
    "Dimensionality reduction of asset returns has been a well covered research topic in finance. In general, the expected return of a stock can be described by a set of factors and its exposure to those factors. For example, following Fama and French (1990), the cross section of stock returns is governed by the exposure to the market portfolio and two self-financing long/short portfolios of small/large and cheap/expensive companies.\n",
    "<br><br>\n",
    "Since the factors are investable long/short portfolios, the question of how much to allocate to each factor naturally arises. In this notebook, I will derive the static ex-post efficient frontier of a set of equity factors and analyze the regime-dependent optimal allocation to each factor.\n",
    "<br>\n",
    "Because a vector space can be rotated, the same vector space can be described by a different set of factors, which leads to a countless number of factors. I will therefore focus on the most established factors (Fama & French, 2015); Carhart, 1997; Asness et al., 2013)."
   ]
  },
  {
   "cell_type": "code",
   "execution_count": null,
   "id": "08fc34da",
   "metadata": {},
   "outputs": [],
   "source": []
  }
 ],
 "metadata": {
  "kernelspec": {
   "display_name": "Python 3 (ipykernel)",
   "language": "python",
   "name": "python3"
  },
  "language_info": {
   "codemirror_mode": {
    "name": "ipython",
    "version": 3
   },
   "file_extension": ".py",
   "mimetype": "text/x-python",
   "name": "python",
   "nbconvert_exporter": "python",
   "pygments_lexer": "ipython3",
   "version": "3.9.10"
  }
 },
 "nbformat": 4,
 "nbformat_minor": 5
}
