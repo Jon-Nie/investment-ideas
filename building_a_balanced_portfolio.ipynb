{
 "cells": [
  {
   "cell_type": "markdown",
   "id": "1e846075",
   "metadata": {},
   "source": [
    "# Building a balanced portfolio\n",
    "\n",
    "## Introduction\n",
    "Conventional portfolios often consist of either only stocks or a mix of stocks and bonds. The reasoning is simple as government bonds have a bias to outperform when equity markets tumble, central banks become more dovish and risk aversion increases. In fact, during the financial crisis 2008/09 and the 2020 covid crisis, long-term government bonds with a maturity of over 20 years returned xx% and yy% while equities lost xx% and yy%, respectively.\n",
    "<br>\n",
    "<br>\n",
    "The recent inflationary pressure and the accompanied spike in long-term interest rates however causes equities and bonds to fall contemporaneously since bonds are solely influenced by the average-weighted interest rate of the yield curve and higher interest rates lowering the expected future cashflows of stocks and also raising the discount rate of those cashflows. This highlights the fact that each asset class or style premium (e.g. the value premium in the equity market) carries economic biases in which it out- or underperforms. While stocks (bonds) tend to perform extraordinarily when growth is unexpectedly increasing (decreasing), they are both terrible when inflation is unexpectedly increasing and hence the diversification benefit between those two asset classes vanishes in this environment.\n",
    "<br>\n",
    "<br>\n",
    "This notebook has two goals. First, I want to identify the enivronmental variables that influence asset returns and quantify the exposure/bias of each asset class and style premium to those environments. The second part is an attempt to use those biases and build a balanced portfolio in the sense that the allocations are set so that the respective biases cancel each other out and the portfolio returns a premium irrespective of the environment."
   ]
  },
  {
   "cell_type": "code",
   "execution_count": null,
   "id": "3683e54f",
   "metadata": {},
   "outputs": [],
   "source": []
  },
  {
   "cell_type": "code",
   "execution_count": null,
   "id": "9d050932",
   "metadata": {},
   "outputs": [],
   "source": []
  },
  {
   "cell_type": "code",
   "execution_count": null,
   "id": "2d7f7662",
   "metadata": {},
   "outputs": [],
   "source": []
  }
 ],
 "metadata": {
  "kernelspec": {
   "display_name": "Python 3 (ipykernel)",
   "language": "python",
   "name": "python3"
  },
  "language_info": {
   "codemirror_mode": {
    "name": "ipython",
    "version": 3
   },
   "file_extension": ".py",
   "mimetype": "text/x-python",
   "name": "python",
   "nbconvert_exporter": "python",
   "pygments_lexer": "ipython3",
   "version": "3.9.10"
  }
 },
 "nbformat": 4,
 "nbformat_minor": 5
}
